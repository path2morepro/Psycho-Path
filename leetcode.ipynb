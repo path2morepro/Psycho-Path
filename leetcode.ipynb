{
 "cells": [
  {
   "cell_type": "markdown",
   "metadata": {},
   "source": [
    "# Merger 2 number arrays"
   ]
  },
  {
   "cell_type": "code",
   "execution_count": 4,
   "metadata": {},
   "outputs": [
    {
     "name": "stdout",
     "output_type": "stream",
     "text": [
      "num is empty\n"
     ]
    }
   ],
   "source": [
    "# 测试和源代码都会在这里\n",
    "num = []\n",
    "if(num):\n",
    "    print(\"num is not empty\")\n",
    "else:\n",
    "    print(\"num is empty\")\n"
   ]
  },
  {
   "cell_type": "code",
   "execution_count": 1,
   "metadata": {},
   "outputs": [
    {
     "data": {
      "text/plain": [
       "[1, 2, 3, 4, 2, 3, 4, 5]"
      ]
     },
     "execution_count": 1,
     "metadata": {},
     "output_type": "execute_result"
    }
   ],
   "source": [
    "n1 = [1, 2, 3, 4]\n",
    "n2 = [2, 3, 4, 5]\n",
    "n = n1 + n2\n",
    "n"
   ]
  },
  {
   "cell_type": "code",
   "execution_count": 2,
   "metadata": {},
   "outputs": [
    {
     "data": {
      "text/plain": [
       "[3, 4, 5]"
      ]
     },
     "execution_count": 2,
     "metadata": {},
     "output_type": "execute_result"
    }
   ],
   "source": [
    "n2[1:]"
   ]
  },
  {
   "cell_type": "code",
   "execution_count": 10,
   "metadata": {},
   "outputs": [
    {
     "data": {
      "text/plain": [
       "[1, 2, 3, 4, 3, 4, 5]"
      ]
     },
     "execution_count": 10,
     "metadata": {},
     "output_type": "execute_result"
    }
   ],
   "source": [
    "n1 += n2[1:]\n",
    "n1"
   ]
  },
  {
   "cell_type": "code",
   "execution_count": 13,
   "metadata": {},
   "outputs": [
    {
     "data": {
      "text/plain": [
       "[1, 2, 2, 3, 0, 0, 0, 5, 6]"
      ]
     },
     "execution_count": 13,
     "metadata": {},
     "output_type": "execute_result"
    }
   ],
   "source": [
    "# solution\n",
    "def merge(nums1, m, nums2, n):\n",
    "        \"\"\"\n",
    "        Do not return anything, modify nums1 in-place instead.\n",
    "        \"\"\"\n",
    "        merge = []\n",
    "        if(nums1 and nums2):\n",
    "            i ,j = 0, 0\n",
    "            while i < m and j < n:\n",
    "                if(nums1[i] > nums2[j]):\n",
    "                    merge.append(nums2[j])\n",
    "                    j += 1\n",
    "                    # print(merge)\n",
    "                else:\n",
    "                    merge.append(nums1[i])\n",
    "                    i += 1\n",
    "                    # print(merge)\n",
    "            if i == m:\n",
    "                 merge += nums2[j:]\n",
    "                #  print(merge)\n",
    "            elif j == n:\n",
    "                 merge += nums1[i:]\n",
    "        else:\n",
    "             merge = nums1 + nums2\n",
    "        nums1 = merge\n",
    "        return nums1\n",
    "\n",
    "merge(nums1=[1,2,3,0,0,0], m=6,nums2=[2,5,6],n=3)"
   ]
  },
  {
   "cell_type": "markdown",
   "metadata": {},
   "source": [
    "现在的问题是我没办法在nums1上做inplace操作+没办法很巧妙地忽略掉0\n",
    "So far, I have problems on inplace operation on nums1 and ignoring 0."
   ]
  },
  {
   "cell_type": "markdown",
   "metadata": {},
   "source": [
    "没读懂题目......\n",
    "I don't understand the description......"
   ]
  },
  {
   "cell_type": "code",
   "execution_count": null,
   "metadata": {},
   "outputs": [
    {
     "data": {
      "text/plain": [
       "[1, 2, 2, 3, 5, 6]"
      ]
     },
     "execution_count": 15,
     "metadata": {},
     "output_type": "execute_result"
    }
   ],
   "source": [
    "# 2nd edition\n",
    "def merge(nums1, m, nums2, n):\n",
    "        \"\"\"\n",
    "        Do not return anything, modify nums1 in-place instead.\n",
    "        \"\"\"\n",
    "        for i in range(n):\n",
    "            nums1[m+i] = nums2[i]\n",
    "        nums1.sort()\n",
    "        return nums1\n",
    "\n",
    "merge(nums1=[1,2,3,0,0,0], m=3,nums2=[2,5,6],n=3)\n",
    "\n",
    "# but too fucking slow, check the solution"
   ]
  },
  {
   "cell_type": "markdown",
   "metadata": {},
   "source": [
    "也可以按照之前的思路，只不过顺序有变化，因为要实现Inplace operation所以要从后往前比较\n",
    "I can also follow the previous idea, except that the order has changed, because you want to implement the Inplace operation so you have to compare from back to front."
   ]
  },
  {
   "cell_type": "code",
   "execution_count": 35,
   "metadata": {},
   "outputs": [
    {
     "data": {
      "text/plain": [
       "[1]"
      ]
     },
     "execution_count": 35,
     "metadata": {},
     "output_type": "execute_result"
    }
   ],
   "source": [
    "# 3rd solution\n",
    "def merge(nums1, m, nums2, n):\n",
    "      \"\"\"\n",
    "      Do not return anything, modify nums1 in-place instead.\n",
    "      \"\"\"\n",
    "      i = m-1\n",
    "      j = n-1\n",
    "      k = m+n-1 \n",
    "      # the introduction of k plays an important role\n",
    "      # I should regard nums1 as a merged array\n",
    "      # which means the first m elements in nums1 can be changed.\n",
    "      if(m != 0 and n != 0):\n",
    "            while i >= 0 and j >= 0:\n",
    "                  if nums1[i] < nums2[j]:\n",
    "                        nums1[k] = nums2[j]\n",
    "                        j-=1\n",
    "                        k-=1\n",
    "                  elif nums1[i] >= nums2[j]:\n",
    "                        nums1[k] = nums1[i]\n",
    "                        i-=1\n",
    "                        k-=1\n",
    "      else:\n",
    "            nums1 = nums1 if n == 0 else nums2\n",
    "      return nums1\n",
    "# merge(nums1=[1,2,3,0,0,0], m=3,nums2=[2,5,6],n=3)\n",
    "merge(nums1=[0], m=0,nums2=[1],n=1)"
   ]
  },
  {
   "cell_type": "markdown",
   "metadata": {},
   "source": [
    "I don't know why such a line like nums1 = nums2 doesn't work in this problem.\n",
    "To cope with the special case that m=0 without extra branch, I have to exchange the order of comparison of nums1[i] and nums2[j] and tune the condition like this"
   ]
  },
  {
   "cell_type": "code",
   "execution_count": null,
   "metadata": {},
   "outputs": [],
   "source": [
    "def merge(nums1, m, nums2, n):\n",
    "    \"\"\"\n",
    "    Do not return anything, modify nums1 in-place instead.\n",
    "    \"\"\"\n",
    "    i = m-1\n",
    "    j = n-1\n",
    "    k = m+n-1 \n",
    "    # the introduction of k plays an important role\n",
    "    # I should regard nums1 as a merged array\n",
    "    # which means the first m elements in nums1 can be changed.\n",
    "    while j >= 0:\n",
    "            if i >= 0 and nums1[i] > nums2[j]:\n",
    "                # i>=0 move to there, once n=0, nothing required to do\n",
    "                # once i <= we can directly move the rest of nums2 into nums1\n",
    "                #  in this case, those elements are greater than nums1[0]\n",
    "                nums1[k] = nums1[i]\n",
    "                i-=1\n",
    "            else:\n",
    "                nums1[k] = nums2[j]\n",
    "                j-=1\n",
    "            k-=1"
   ]
  },
  {
   "cell_type": "markdown",
   "metadata": {},
   "source": [
    "# Remove Element\n",
    "Comprehensive description.\n",
    "Intuitively, literate the whole array and delete the element equaling the value of var.\n",
    "A lot of build-in functions can implement that, including replace, or something else, but I mean, performance have to be considered.\n",
    "\n",
    "I want to implement the intuitive solution first.\n",
    "Attention, in terms of description, the var value have to be replaced and ***move to the end***. So I think I should swipe them with the tails first."
   ]
  },
  {
   "cell_type": "code",
   "execution_count": null,
   "metadata": {},
   "outputs": [],
   "source": [
    "# swipe elements\n",
    "# 示例列表\n",
    "my_list = [10, 20, 30, 40, 50]\n",
    "\n",
    "# 交换索引 1 和索引 3 的元素\n",
    "i, j = 1, 3\n",
    "my_list[i], my_list[j] = my_list[j], my_list[i]\n",
    "\n",
    "print(f\"交换后的列表: {my_list}\")\n",
    "# 输出: [10, 40, 30, 20, 50]"
   ]
  },
  {
   "cell_type": "code",
   "execution_count": null,
   "metadata": {},
   "outputs": [],
   "source": [
    "# search elements\n",
    "my_list = [10, 20, 30, 40, 30, 50]\n",
    "\n",
    "# 找到所有匹配值的索引\n",
    "value = 30\n",
    "indices = [i for i, x in enumerate(my_list) if x == value]\n",
    "print(f\"值 {value} 的所有索引位置: {indices}\")\n"
   ]
  },
  {
   "cell_type": "code",
   "execution_count": null,
   "metadata": {},
   "outputs": [
    {
     "name": "stdout",
     "output_type": "stream",
     "text": [
      "[0, 1, 4, 0, 3, 2, 2, 2]\n",
      "[3, 3]\n"
     ]
    },
    {
     "data": {
      "text/plain": [
       "-1"
      ]
     },
     "execution_count": 50,
     "metadata": {},
     "output_type": "execute_result"
    }
   ],
   "source": [
    "def removeElement(nums, val):\n",
    "    n = len(nums)\n",
    "    j = n-1 # tail elements\n",
    "    i = 0\n",
    "    count = 0 # how many val?\n",
    "    while i <= j:\n",
    "        if nums[i] == val:\n",
    "            while j >= 0 and nums[j] == val:\n",
    "                j -= 1\n",
    "                count +=1\n",
    "            nums[i], nums[j] = nums[j], nums[i]\n",
    "            count += 1\n",
    "            j -= 1\n",
    "        i += 1\n",
    "    print(nums)\n",
    "    return n - count\n",
    "\n",
    "removeElement(nums = [0,1,2,2,3,0,4,2], val = 2)\n",
    "removeElement(nums = [3,3], val = 3)\n",
    "            "
   ]
  },
  {
   "cell_type": "markdown",
   "metadata": {},
   "source": [
    "Intuitive solution cannot solve the second case......\n",
    "Check the solution\n",
    "\n",
    "I found that I don't have to strictly swipe but just replace the val with tail element.\n",
    "\n",
    "The strategy of the solution is:\n",
    "Replace all the val values with the later element whose value is not val. But how can it ensure that\n",
    "all the elements except those in value of val are included?\n",
    "\n",
    "Of course it can, all the val elements are replaced by others, equaling that all the var elements are placed in tails.\n",
    "\n",
    "How can it ensure that nums[k] == val? Explain below.\n"
   ]
  },
  {
   "cell_type": "code",
   "execution_count": null,
   "metadata": {},
   "outputs": [
    {
     "name": "stdout",
     "output_type": "stream",
     "text": [
      "[0, 1, 3, 0, 4, 0, 4, 2]\n",
      "5\n",
      "[3, 3]\n",
      "0\n"
     ]
    }
   ],
   "source": [
    "def removeElement(nums, val):\n",
    "    n = len(nums)\n",
    "    k = 0\n",
    "    for i in range(n):\n",
    "        # start with k=0, i=0\n",
    "        # until first nums[i]==val, k and i move forward together\n",
    "        # so replacement doesn't matter\n",
    "        # after first nums[i]==val, k would stop there but i move forward, this is why it uses for loop\n",
    "        # in that case, nums[k]==val, and nums[i]!=val, replacement makes sense\n",
    "        # after replacement, because one val element replaced by the later one, so we have 2 repetitive elements\n",
    "        # thus, all the others should step forward\n",
    "        # so k is used to locate the repetitive element, and i is used to locate the following one, replacement still make sense\n",
    "        # finally, k would be on the next position (because of the loop) of the last val element, so k is the length of non-val elements.\n",
    "        if(nums[i] != val):\n",
    "            nums[k] = nums[i]\n",
    "            k += 1\n",
    "    print(nums)\n",
    "    return k\n",
    "\n",
    "print(removeElement(nums = [0,1,2,2,3,0,4,2], val = 2))\n",
    "print(removeElement(nums = [3,3], val = 3))"
   ]
  },
  {
   "cell_type": "markdown",
   "metadata": {},
   "source": [
    "# Remove Duplicates from Sorted Array\n",
    "Intuitive solution: Build-in functions......\n",
    "Directly check the solution.\n",
    "wait......I know that:\n",
    "two poineers: i for the tail of first duplicate elements and j for the head of rest of duplicate elements."
   ]
  },
  {
   "cell_type": "code",
   "execution_count": 34,
   "metadata": {},
   "outputs": [
    {
     "name": "stdout",
     "output_type": "stream",
     "text": [
      "5\n",
      "1\n",
      "1\n"
     ]
    }
   ],
   "source": [
    "def removeDuplicates(nums):\n",
    "    n = len(nums)\n",
    "    i = 0\n",
    "    while i + 1 < n and nums[i] == nums[i+1]:\n",
    "        i += 1\n",
    "    j = i\n",
    "    while j + 1< n:\n",
    "        if nums[j] == nums[j+1]:\n",
    "            j += 1\n",
    "            continue\n",
    "        else:\n",
    "            j += 1\n",
    "            nums[i] = nums[j]\n",
    "            i += 1\n",
    "    return i\n",
    "            \n",
    "\n",
    "print(removeDuplicates(nums=[0,0,1,1,1,2,2,3,3,4]))\n",
    "print(removeDuplicates(nums=[1,2]))\n",
    "print(removeDuplicates(nums=[1]))"
   ]
  },
  {
   "cell_type": "markdown",
   "metadata": {},
   "source": [
    "I cannot cope with situation that no duplicate elements in the list......although the thinking is correct.\n",
    "\n",
    "Modification required"
   ]
  },
  {
   "cell_type": "code",
   "execution_count": 35,
   "metadata": {},
   "outputs": [
    {
     "name": "stdout",
     "output_type": "stream",
     "text": [
      "5\n",
      "2\n",
      "1\n"
     ]
    }
   ],
   "source": [
    "def removeDuplicates(nums):\n",
    "    i = 0\n",
    "\n",
    "    for j in range(1, len(nums)):\n",
    "        if nums[j] != nums[i]:\n",
    "            i += 1\n",
    "            nums[i] = nums[j]\n",
    "    \n",
    "    return i + 1\n",
    "\n",
    "print(removeDuplicates(nums=[0,0,1,1,1,2,2,3,3,4]))\n",
    "print(removeDuplicates(nums=[1,2]))\n",
    "print(removeDuplicates(nums=[1]))"
   ]
  },
  {
   "cell_type": "markdown",
   "metadata": {},
   "source": [
    "***Tips on my code:***\n",
    "\n",
    "You have to realize that when j+=1 appeared in each branch, you have to replace the loop as for with literable variable j;\n",
    "\n",
    "***And how to solve my problem in this solution:***\n",
    "\n",
    "In my code, replacement happens between 2 numbers who have sblings like, 1, 1, 2, 2, 2, in this case, 2 would replace 1. However, replacement can take place between 2 unique numbers, but i++ should execute first, in that case, it becomes self replacement which seems like nothing happen but i can represents the length of unique elements."
   ]
  },
  {
   "cell_type": "markdown",
   "metadata": {},
   "source": [
    "# Remove Duplicate Elements 2\n",
    "Unique element appears at most twice, that's sorely difference\n",
    "I checked the solution after struggling.\n",
    "\n",
    "Attention: You might need to find the solution based on problem itself, instead\n",
    "always try to use some template.\n",
    "\n",
    "## Solution\n",
    "The first 2 elements are same or unique: no replacement needed\n",
    "\n",
    "k represents the element need to be replaced, and i represents the element who replaces nums[k].\n",
    "if nums[i] != nums[k], replace.\n",
    "\n",
    "## Confusion\n",
    "\n",
    "从这道题来看，比如[1,1,2,2,2,3]， 我会觉得只有到1,1,2, 2需要被替换，2,2,2, 最后一个2的时候需要被替换，但是在这种情况下，也发生替换(k=3, i=4)，虽然这个替换什么都不影响，但是在想solution的时候思维会局限在 “我们只有在有第三个重复的时候才进行替换”，这时候要怎么跳出这个误区......或者有时候我觉得他只是在考虑第一次替换的时候会发生什么，后面解释也解释不清楚，反正就是管用。\n",
    "\n",
    "## Tips \n",
    "\n",
    "原地替换修改数组关键在于使用双指针，分别负责遍历和保留：一个指针遍历原数组，另一个指针记录修改后的结果(可以保留下来的结果)。\n",
    "\n",
    "明确每个元素的保留规则（最多两次）\n"
   ]
  },
  {
   "cell_type": "code",
   "execution_count": 2,
   "metadata": {},
   "outputs": [
    {
     "data": {
      "text/plain": [
       "[1, 1, 2, 2, 3, 3]"
      ]
     },
     "execution_count": 2,
     "metadata": {},
     "output_type": "execute_result"
    }
   ],
   "source": [
    "# solution:\n",
    "def removeDuplicates(nums):\n",
    "    k = 2\n",
    "    n = len(nums)\n",
    "\n",
    "    for i in range(2, n):\n",
    "        if nums[k-2] != nums[i]:\n",
    "            nums[k] = nums[i]\n",
    "            k += 1\n",
    "    return nums\n",
    "\n",
    "removeDuplicates(nums=[1,1,1,2,2,3])"
   ]
  }
 ],
 "metadata": {
  "kernelspec": {
   "display_name": "base",
   "language": "python",
   "name": "python3"
  },
  "language_info": {
   "codemirror_mode": {
    "name": "ipython",
    "version": 3
   },
   "file_extension": ".py",
   "mimetype": "text/x-python",
   "name": "python",
   "nbconvert_exporter": "python",
   "pygments_lexer": "ipython3",
   "version": "3.9.12"
  }
 },
 "nbformat": 4,
 "nbformat_minor": 2
}
