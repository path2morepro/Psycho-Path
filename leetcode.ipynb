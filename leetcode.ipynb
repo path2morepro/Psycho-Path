{
 "cells": [
  {
   "cell_type": "markdown",
   "metadata": {},
   "source": [
    "# Merger 2 number arrays"
   ]
  },
  {
   "cell_type": "code",
   "execution_count": 4,
   "metadata": {},
   "outputs": [
    {
     "name": "stdout",
     "output_type": "stream",
     "text": [
      "num is empty\n"
     ]
    }
   ],
   "source": [
    "# 测试和源代码都会在这里\n",
    "num = []\n",
    "if(num):\n",
    "    print(\"num is not empty\")\n",
    "else:\n",
    "    print(\"num is empty\")\n"
   ]
  },
  {
   "cell_type": "code",
   "execution_count": 1,
   "metadata": {},
   "outputs": [
    {
     "data": {
      "text/plain": [
       "[1, 2, 3, 4, 2, 3, 4, 5]"
      ]
     },
     "execution_count": 1,
     "metadata": {},
     "output_type": "execute_result"
    }
   ],
   "source": [
    "n1 = [1, 2, 3, 4]\n",
    "n2 = [2, 3, 4, 5]\n",
    "n = n1 + n2\n",
    "n"
   ]
  },
  {
   "cell_type": "code",
   "execution_count": 2,
   "metadata": {},
   "outputs": [
    {
     "data": {
      "text/plain": [
       "[3, 4, 5]"
      ]
     },
     "execution_count": 2,
     "metadata": {},
     "output_type": "execute_result"
    }
   ],
   "source": [
    "n2[1:]"
   ]
  },
  {
   "cell_type": "code",
   "execution_count": 10,
   "metadata": {},
   "outputs": [
    {
     "data": {
      "text/plain": [
       "[1, 2, 3, 4, 3, 4, 5]"
      ]
     },
     "execution_count": 10,
     "metadata": {},
     "output_type": "execute_result"
    }
   ],
   "source": [
    "n1 += n2[1:]\n",
    "n1"
   ]
  },
  {
   "cell_type": "code",
   "execution_count": 13,
   "metadata": {},
   "outputs": [
    {
     "data": {
      "text/plain": [
       "[1, 2, 2, 3, 0, 0, 0, 5, 6]"
      ]
     },
     "execution_count": 13,
     "metadata": {},
     "output_type": "execute_result"
    }
   ],
   "source": [
    "# solution\n",
    "def merge(nums1, m, nums2, n):\n",
    "        \"\"\"\n",
    "        Do not return anything, modify nums1 in-place instead.\n",
    "        \"\"\"\n",
    "        merge = []\n",
    "        if(nums1 and nums2):\n",
    "            i ,j = 0, 0\n",
    "            while i < m and j < n:\n",
    "                if(nums1[i] > nums2[j]):\n",
    "                    merge.append(nums2[j])\n",
    "                    j += 1\n",
    "                    # print(merge)\n",
    "                else:\n",
    "                    merge.append(nums1[i])\n",
    "                    i += 1\n",
    "                    # print(merge)\n",
    "            if i == m:\n",
    "                 merge += nums2[j:]\n",
    "                #  print(merge)\n",
    "            elif j == n:\n",
    "                 merge += nums1[i:]\n",
    "        else:\n",
    "             merge = nums1 + nums2\n",
    "        nums1 = merge\n",
    "        return nums1\n",
    "\n",
    "merge(nums1=[1,2,3,0,0,0], m=6,nums2=[2,5,6],n=3)"
   ]
  },
  {
   "cell_type": "markdown",
   "metadata": {},
   "source": [
    "现在的问题是我没办法在nums1上做inplace操作+没办法很巧妙地忽略掉0\n",
    "So far, I have problems on inplace operation on nums1 and ignoring 0."
   ]
  },
  {
   "cell_type": "markdown",
   "metadata": {},
   "source": [
    "没读懂题目......\n",
    "I don't understand the description......"
   ]
  },
  {
   "cell_type": "code",
   "execution_count": null,
   "metadata": {},
   "outputs": [
    {
     "data": {
      "text/plain": [
       "[1, 2, 2, 3, 5, 6]"
      ]
     },
     "execution_count": 15,
     "metadata": {},
     "output_type": "execute_result"
    }
   ],
   "source": [
    "# 2nd edition\n",
    "def merge(nums1, m, nums2, n):\n",
    "        \"\"\"\n",
    "        Do not return anything, modify nums1 in-place instead.\n",
    "        \"\"\"\n",
    "        for i in range(n):\n",
    "            nums1[m+i] = nums2[i]\n",
    "        nums1.sort()\n",
    "        return nums1\n",
    "\n",
    "merge(nums1=[1,2,3,0,0,0], m=3,nums2=[2,5,6],n=3)\n",
    "\n",
    "# but too fucking slow, check the solution"
   ]
  },
  {
   "cell_type": "markdown",
   "metadata": {},
   "source": [
    "也可以按照之前的思路，只不过顺序有变化，因为要实现Inplace operation所以要从后往前比较\n",
    "I can also follow the previous idea, except that the order has changed, because you want to implement the Inplace operation so you have to compare from back to front."
   ]
  },
  {
   "cell_type": "code",
   "execution_count": 35,
   "metadata": {},
   "outputs": [
    {
     "data": {
      "text/plain": [
       "[1]"
      ]
     },
     "execution_count": 35,
     "metadata": {},
     "output_type": "execute_result"
    }
   ],
   "source": [
    "# 3rd solution\n",
    "def merge(nums1, m, nums2, n):\n",
    "      \"\"\"\n",
    "      Do not return anything, modify nums1 in-place instead.\n",
    "      \"\"\"\n",
    "      i = m-1\n",
    "      j = n-1\n",
    "      k = m+n-1 \n",
    "      # the introduction of k plays an important role\n",
    "      # I should regard nums1 as a merged array\n",
    "      # which means the first m elements in nums1 can be changed.\n",
    "      if(m != 0 and n != 0):\n",
    "            while i >= 0 and j >= 0:\n",
    "                  if nums1[i] < nums2[j]:\n",
    "                        nums1[k] = nums2[j]\n",
    "                        j-=1\n",
    "                        k-=1\n",
    "                  elif nums1[i] >= nums2[j]:\n",
    "                        nums1[k] = nums1[i]\n",
    "                        i-=1\n",
    "                        k-=1\n",
    "      else:\n",
    "            nums1 = nums1 if n == 0 else nums2\n",
    "      return nums1\n",
    "# merge(nums1=[1,2,3,0,0,0], m=3,nums2=[2,5,6],n=3)\n",
    "merge(nums1=[0], m=0,nums2=[1],n=1)"
   ]
  },
  {
   "cell_type": "markdown",
   "metadata": {},
   "source": [
    "I don't know why such a line like nums1 = nums2 doesn't work in this problem.\n",
    "To cope with the special case that m=0 without extra branch, I have to exchange the order of comparison of nums1[i] and nums2[j] and tune the condition like this"
   ]
  },
  {
   "cell_type": "code",
   "execution_count": null,
   "metadata": {},
   "outputs": [],
   "source": [
    "def merge(nums1, m, nums2, n):\n",
    "    \"\"\"\n",
    "    Do not return anything, modify nums1 in-place instead.\n",
    "    \"\"\"\n",
    "    i = m-1\n",
    "    j = n-1\n",
    "    k = m+n-1 \n",
    "    # the introduction of k plays an important role\n",
    "    # I should regard nums1 as a merged array\n",
    "    # which means the first m elements in nums1 can be changed.\n",
    "    while j >= 0:\n",
    "            if i >= 0 and nums1[i] > nums2[j]:\n",
    "                # i>=0 move to there, once n=0, nothing required to do\n",
    "                # once i <= we can directly move the rest of nums2 into nums1\n",
    "                #  in this case, those elements are greater than nums1[0]\n",
    "                nums1[k] = nums1[i]\n",
    "                i-=1\n",
    "            else:\n",
    "                nums1[k] = nums2[j]\n",
    "                j-=1\n",
    "            k-=1"
   ]
  },
  {
   "cell_type": "markdown",
   "metadata": {},
   "source": [
    "# Remove Element\n",
    "Comprehensive description.\n",
    "Intuitively, literate the whole array and delete the element equaling the value of var.\n",
    "A lot of build-in functions can implement that, including replace, or something else, but I mean, performance have to be considered.\n",
    "\n",
    "I want to implement the intuitive solution first.\n",
    "Attention, in terms of description, the var value have to be replaced and ***move to the end***. So I think I should swipe them with the tails first."
   ]
  },
  {
   "cell_type": "code",
   "execution_count": null,
   "metadata": {},
   "outputs": [],
   "source": [
    "# swipe elements\n",
    "# 示例列表\n",
    "my_list = [10, 20, 30, 40, 50]\n",
    "\n",
    "# 交换索引 1 和索引 3 的元素\n",
    "i, j = 1, 3\n",
    "my_list[i], my_list[j] = my_list[j], my_list[i]\n",
    "\n",
    "print(f\"交换后的列表: {my_list}\")\n",
    "# 输出: [10, 40, 30, 20, 50]"
   ]
  },
  {
   "cell_type": "code",
   "execution_count": null,
   "metadata": {},
   "outputs": [],
   "source": [
    "# search elements\n",
    "my_list = [10, 20, 30, 40, 30, 50]\n",
    "\n",
    "# 找到所有匹配值的索引\n",
    "value = 30\n",
    "indices = [i for i, x in enumerate(my_list) if x == value]\n",
    "print(f\"值 {value} 的所有索引位置: {indices}\")\n"
   ]
  },
  {
   "cell_type": "code",
   "execution_count": null,
   "metadata": {},
   "outputs": [
    {
     "name": "stdout",
     "output_type": "stream",
     "text": [
      "[0, 1, 4, 0, 3, 2, 2, 2]\n",
      "[3, 3]\n"
     ]
    },
    {
     "data": {
      "text/plain": [
       "-1"
      ]
     },
     "execution_count": 50,
     "metadata": {},
     "output_type": "execute_result"
    }
   ],
   "source": [
    "def removeElement(nums, val):\n",
    "    n = len(nums)\n",
    "    j = n-1 # tail elements\n",
    "    i = 0\n",
    "    count = 0 # how many val?\n",
    "    while i <= j:\n",
    "        if nums[i] == val:\n",
    "            while j >= 0 and nums[j] == val:\n",
    "                j -= 1\n",
    "                count +=1\n",
    "            nums[i], nums[j] = nums[j], nums[i]\n",
    "            count += 1\n",
    "            j -= 1\n",
    "        i += 1\n",
    "    print(nums)\n",
    "    return n - count\n",
    "\n",
    "removeElement(nums = [0,1,2,2,3,0,4,2], val = 2)\n",
    "removeElement(nums = [3,3], val = 3)\n",
    "            "
   ]
  },
  {
   "cell_type": "markdown",
   "metadata": {},
   "source": [
    "Intuitive solution cannot solve the second case......\n",
    "Check the solution\n",
    "\n",
    "I found that I don't have to strictly swipe but just replace the val with tail element.\n",
    "\n",
    "The strategy of the solution is:\n",
    "Replace all the val values with the later element whose value is not val. But how can it ensure that\n",
    "all the elements except those in value of val are included?\n",
    "\n",
    "Of course it can, all the val elements are replaced by others, equaling that all the var elements are placed in tails.\n",
    "\n",
    "How can it ensure that nums[k] == val? Explain below.\n"
   ]
  },
  {
   "cell_type": "code",
   "execution_count": null,
   "metadata": {},
   "outputs": [
    {
     "name": "stdout",
     "output_type": "stream",
     "text": [
      "[0, 1, 3, 0, 4, 0, 4, 2]\n",
      "5\n",
      "[3, 3]\n",
      "0\n"
     ]
    }
   ],
   "source": [
    "def removeElement(nums, val):\n",
    "    n = len(nums)\n",
    "    k = 0\n",
    "    for i in range(n):\n",
    "        # start with k=0, i=0\n",
    "        # until first nums[i]==val, k and i move forward together\n",
    "        # so replacement doesn't matter\n",
    "        # after first nums[i]==val, k would stop there but i move forward, this is why it uses for loop\n",
    "        # in that case, nums[k]==val, and nums[i]!=val, replacement makes sense\n",
    "        # after replacement, because one val element replaced by the later one, so we have 2 repetitive elements\n",
    "        # thus, all the others should step forward\n",
    "        # so k is used to locate the repetitive element, and i is used to locate the following one, replacement still make sense\n",
    "        # finally, k would be on the next position (because of the loop) of the last val element, so k is the length of non-val elements.\n",
    "        if(nums[i] != val):\n",
    "            nums[k] = nums[i]\n",
    "            k += 1\n",
    "    print(nums)\n",
    "    return k\n",
    "\n",
    "print(removeElement(nums = [0,1,2,2,3,0,4,2], val = 2))\n",
    "print(removeElement(nums = [3,3], val = 3))"
   ]
  },
  {
   "cell_type": "markdown",
   "metadata": {},
   "source": [
    "# Remove Duplicates from Sorted Array\n",
    "Intuitive solution: Build-in functions......\n",
    "Directly check the solution.\n",
    "wait......I know that:\n",
    "two poineers: i for the tail of first duplicate elements and j for the head of rest of duplicate elements."
   ]
  },
  {
   "cell_type": "code",
   "execution_count": 34,
   "metadata": {},
   "outputs": [
    {
     "name": "stdout",
     "output_type": "stream",
     "text": [
      "5\n",
      "1\n",
      "1\n"
     ]
    }
   ],
   "source": [
    "def removeDuplicates(nums):\n",
    "    n = len(nums)\n",
    "    i = 0\n",
    "    while i + 1 < n and nums[i] == nums[i+1]:\n",
    "        i += 1\n",
    "    j = i\n",
    "    while j + 1< n:\n",
    "        if nums[j] == nums[j+1]:\n",
    "            j += 1\n",
    "            continue\n",
    "        else:\n",
    "            j += 1\n",
    "            nums[i] = nums[j]\n",
    "            i += 1\n",
    "    return i\n",
    "            \n",
    "\n",
    "print(removeDuplicates(nums=[0,0,1,1,1,2,2,3,3,4]))\n",
    "print(removeDuplicates(nums=[1,2]))\n",
    "print(removeDuplicates(nums=[1]))"
   ]
  },
  {
   "cell_type": "markdown",
   "metadata": {},
   "source": [
    "I cannot cope with situation that no duplicate elements in the list......although the thinking is correct.\n",
    "\n",
    "Modification required"
   ]
  },
  {
   "cell_type": "code",
   "execution_count": 35,
   "metadata": {},
   "outputs": [
    {
     "name": "stdout",
     "output_type": "stream",
     "text": [
      "5\n",
      "2\n",
      "1\n"
     ]
    }
   ],
   "source": [
    "def removeDuplicates(nums):\n",
    "    i = 0\n",
    "\n",
    "    for j in range(1, len(nums)):\n",
    "        if nums[j] != nums[i]:\n",
    "            i += 1\n",
    "            nums[i] = nums[j]\n",
    "    \n",
    "    return i + 1\n",
    "\n",
    "print(removeDuplicates(nums=[0,0,1,1,1,2,2,3,3,4]))\n",
    "print(removeDuplicates(nums=[1,2]))\n",
    "print(removeDuplicates(nums=[1]))"
   ]
  },
  {
   "cell_type": "markdown",
   "metadata": {},
   "source": [
    "***Tips on my code:***\n",
    "\n",
    "You have to realize that when j+=1 appeared in each branch, you have to replace the loop as for with literable variable j;\n",
    "\n",
    "***And how to solve my problem in this solution:***\n",
    "\n",
    "In my code, replacement happens between 2 numbers who have sblings like, 1, 1, 2, 2, 2, in this case, 2 would replace 1. However, replacement can take place between 2 unique numbers, but i++ should execute first, in that case, it becomes self replacement which seems like nothing happen but i can represents the length of unique elements."
   ]
  },
  {
   "cell_type": "markdown",
   "metadata": {},
   "source": [
    "# Remove Duplicate Elements 2\n",
    "Unique element appears at most twice, that's sorely difference\n",
    "I checked the solution after struggling.\n",
    "\n",
    "Attention: You might need to find the solution based on problem itself, instead\n",
    "always try to use some template.\n",
    "\n",
    "## Solution\n",
    "The first 2 elements are same or unique: no replacement needed\n",
    "\n",
    "k represents the element need to be replaced, and i represents the element who replaces nums[k].\n",
    "if nums[i] != nums[k], replace.\n",
    "\n",
    "## Confusion\n",
    "\n",
    "从这道题来看，比如[1,1,2,2,2,3]， 我会觉得只有到1,1,2, 2需要被替换，2,2,2, 最后一个2的时候需要被替换，但是在这种情况下，也发生替换(k=3, i=4)，虽然这个替换什么都不影响，但是在想solution的时候思维会局限在 “我们只有在有第三个重复的时候才进行替换”，这时候要怎么跳出这个误区......或者有时候我觉得他只是在考虑第一次替换的时候会发生什么，后面解释也解释不清楚，反正就是管用。\n",
    "\n",
    "## Tips \n",
    "\n",
    "原地替换修改数组关键在于使用双指针，分别负责遍历和保留：一个指针遍历原数组，另一个指针记录修改后的结果(可以保留下来的结果)。\n",
    "\n",
    "明确每个元素的保留规则（最多两次）\n"
   ]
  },
  {
   "cell_type": "code",
   "execution_count": 2,
   "metadata": {},
   "outputs": [
    {
     "data": {
      "text/plain": [
       "[1, 1, 2, 2, 3, 3]"
      ]
     },
     "execution_count": 2,
     "metadata": {},
     "output_type": "execute_result"
    }
   ],
   "source": [
    "# solution:\n",
    "def removeDuplicates(nums):\n",
    "    k = 2\n",
    "    n = len(nums)\n",
    "\n",
    "    for i in range(2, n):\n",
    "        if nums[k-2] != nums[i]:\n",
    "            nums[k] = nums[i]\n",
    "            k += 1\n",
    "    return nums\n",
    "\n",
    "removeDuplicates(nums=[1,1,1,2,2,3])"
   ]
  },
  {
   "cell_type": "markdown",
   "metadata": {},
   "source": [
    "# Marjority Element"
   ]
  },
  {
   "cell_type": "code",
   "execution_count": 3,
   "metadata": {},
   "outputs": [
    {
     "data": {
      "text/plain": [
       "2.5"
      ]
     },
     "execution_count": 3,
     "metadata": {},
     "output_type": "execute_result"
    }
   ],
   "source": [
    "5/2\n",
    "# whether it equals to 2\n",
    "# no, 2.5"
   ]
  },
  {
   "cell_type": "code",
   "execution_count": 4,
   "metadata": {},
   "outputs": [
    {
     "data": {
      "text/plain": [
       "2"
      ]
     },
     "execution_count": 4,
     "metadata": {},
     "output_type": "execute_result"
    }
   ],
   "source": [
    "def majorityElement(nums):\n",
    "    dict = {}\n",
    "    n = len(nums)\n",
    "    majority = n/2\n",
    "    for i in range(n):\n",
    "        if nums[i] not in dict:\n",
    "            dict[nums[i]] = 1\n",
    "        else:\n",
    "            dict[nums[i]] += 1\n",
    "    for num in dict:\n",
    "        if dict[num] > majority:\n",
    "            return num\n",
    "#  rapid dispatch\n",
    "majorityElement(nums =[2,2,1,1,1,2,2])"
   ]
  },
  {
   "cell_type": "code",
   "execution_count": 5,
   "metadata": {},
   "outputs": [
    {
     "data": {
      "text/plain": [
       "0"
      ]
     },
     "execution_count": 5,
     "metadata": {},
     "output_type": "execute_result"
    }
   ],
   "source": [
    "# you should know dict.get(n, 0)\n",
    "dict = {2: 1, 3: 0}\n",
    "dict.get(5, 0) # find the value of 5, if non-exist, return 0"
   ]
  },
  {
   "cell_type": "code",
   "execution_count": 11,
   "metadata": {},
   "outputs": [
    {
     "data": {
      "text/plain": [
       "2"
      ]
     },
     "execution_count": 11,
     "metadata": {},
     "output_type": "execute_result"
    }
   ],
   "source": [
    "# the faster one\n",
    "def majorityElement(nums):\n",
    "    dict = {}\n",
    "    majority = len(nums)/2\n",
    "    for i in nums:\n",
    "        dict[i] = 1 + dict.get(i, 0)\n",
    "        if dict[i] > majority:\n",
    "            return i\n",
    "majorityElement(nums =[2,2,1,1,1,2,2])\n",
    "# slower......sad"
   ]
  },
  {
   "cell_type": "markdown",
   "metadata": {},
   "source": [
    "# Ratote Array\n",
    "Given an integ\n",
    "\n",
    "er array nums, rotate the array to the right by k steps, where k is non-negative.\n",
    "Input: nums = [1,2,3,4,5,6,7], k = 3\n",
    "rotate 1 steps to the right: [7,1,2,3,4,5,6]\n",
    "rotate 2 steps to the right: [6,7,1,2,3,4,5]\n",
    "rotate 3 steps to the right: [5,6,7,1,2,3,4]\n",
    "\n",
    "At first glance, I was thinking about 2 poineers. But I think I need something like a link node.\n",
    "I noticed that this 3 loop execute the same operations. We have to find it."
   ]
  },
  {
   "cell_type": "code",
   "execution_count": 20,
   "metadata": {},
   "outputs": [
    {
     "data": {
      "text/plain": [
       "[7, 2, 5, 48, 4, 65, 54, 89, 1, 2, 3, 4, 5, 6]"
      ]
     },
     "execution_count": 20,
     "metadata": {},
     "output_type": "execute_result"
    }
   ],
   "source": [
    "def rotate(nums, k):\n",
    "    n = len(nums)\n",
    "    for _ in range(k):\n",
    "        tail = nums[-1]\n",
    "        for i in range(n-2, -1, -1):\n",
    "            nums[i + 1] = nums[i]\n",
    "        nums[0] = tail \n",
    "    return nums\n",
    "\n",
    "rotate(nums = [1,2,3,4,5,6,7,2,5,48,4,65,54,89], k = 1000000)"
   ]
  },
  {
   "cell_type": "code",
   "execution_count": 4,
   "metadata": {},
   "outputs": [
    {
     "name": "stdout",
     "output_type": "stream",
     "text": [
      "5\n",
      "4\n",
      "3\n",
      "2\n",
      "1\n",
      "0\n"
     ]
    }
   ],
   "source": [
    "# 反向循环\n",
    "\n",
    "for i in range(5, -1, -1):\n",
    "    print(i)"
   ]
  },
  {
   "cell_type": "markdown",
   "metadata": {},
   "source": [
    "Too god damn slow......\n",
    "\n",
    "I need to check the solution:\n",
    "\n",
    "It uses the reminder, at first, it decrease k, and then simlify the process"
   ]
  },
  {
   "cell_type": "code",
   "execution_count": 21,
   "metadata": {},
   "outputs": [
    {
     "data": {
      "text/plain": [
       "[7, 2, 5, 48, 4, 65, 54, 89, 1, 2, 3, 4, 5, 6]"
      ]
     },
     "execution_count": 21,
     "metadata": {},
     "output_type": "execute_result"
    }
   ],
   "source": [
    "def rotate(nums, k):\n",
    "    n = len(nums)\n",
    "    k = k % n\n",
    "    rotated = [0] * n\n",
    "\n",
    "    for i in range(n):\n",
    "        rotated[(i + k) % n] = nums[i]\n",
    "\n",
    "    for i in range(n):\n",
    "        nums[i] = rotated[i]\n",
    "\n",
    "    return nums\n",
    "\n",
    "rotate(nums = [1,2,3,4,5,6,7,2,5,48,4,65,54,89], k = 1000000)\n",
    "\n",
    "# em.. improved a lot!"
   ]
  },
  {
   "cell_type": "markdown",
   "metadata": {},
   "source": [
    "# Best Time to Buy and Sell Stock\n",
    "Double poineer works I think"
   ]
  },
  {
   "cell_type": "code",
   "execution_count": 29,
   "metadata": {},
   "outputs": [
    {
     "name": "stdout",
     "output_type": "stream",
     "text": [
      "3\n"
     ]
    },
    {
     "data": {
      "text/plain": [
       "3"
      ]
     },
     "execution_count": 29,
     "metadata": {},
     "output_type": "execute_result"
    }
   ],
   "source": [
    "def maxProfit(prices):\n",
    "    i = 0\n",
    "    n = len(prices)\n",
    "    j = n - 1\n",
    "    profit = 0\n",
    "    while(i < j):\n",
    "        if prices[j] - prices[i] > profit:\n",
    "            profit = prices[j] - prices[i]\n",
    "            print(profit)\n",
    "        i+=1\n",
    "        j-=1\n",
    "        \n",
    "    return profit\n",
    "\n",
    "maxProfit(prices=[7,1,5,3,6,4])"
   ]
  },
  {
   "cell_type": "markdown",
   "metadata": {},
   "source": [
    "Double poineer may works, but seems like the present version does not.\n",
    "\n",
    "Check the solution:\n",
    "\n",
    "Simply, when we find low price of stock, we should buy it so that we can get maximum profit in a later day.\n",
    "\n",
    "Greedy Strategy? The solution search the minimum buy price in the global list, and literate the list to compute the profit and update the max.\n",
    "Wouldn't omit the max value? Updating ensures it is global maximum."
   ]
  },
  {
   "cell_type": "code",
   "execution_count": 30,
   "metadata": {},
   "outputs": [
    {
     "data": {
      "text/plain": [
       "5"
      ]
     },
     "execution_count": 30,
     "metadata": {},
     "output_type": "execute_result"
    }
   ],
   "source": [
    "# The solution:\n",
    "def maxProfit(prices):\n",
    "    buy_price = prices[0]\n",
    "    max_profit = 0\n",
    "\n",
    "    for p in range(len(prices)):\n",
    "        max_profit = max(max_profit, prices[p] - buy_price)\n",
    "        buy_price = min(buy_price, prices[p])\n",
    "\n",
    "    return max_profit\n",
    "\n",
    "\n",
    "maxProfit(prices=[7,1,5,3,6,4])\n",
    "# if I don't use the build-in functions, it would be faster."
   ]
  },
  {
   "cell_type": "markdown",
   "metadata": {},
   "source": [
    "# Best Time to Buy and Sell Stock 2\n",
    "I have no idea about that.\n",
    "\n",
    "Check the solution: It is divided by 2 cases, 1 for increasing prices, the max profit is the gap between highest and lowest prices, as for the second case, namely non-increasing prices, the max profit is the sum of the max profit of the increasing parts.\n",
    "\n"
   ]
  },
  {
   "cell_type": "code",
   "execution_count": 31,
   "metadata": {},
   "outputs": [
    {
     "data": {
      "text/plain": [
       "7"
      ]
     },
     "execution_count": 31,
     "metadata": {},
     "output_type": "execute_result"
    }
   ],
   "source": [
    "def maxProfit(prices):\n",
    "    profit = 0\n",
    "    for i in range(1, len(prices)):\n",
    "        if prices[i-1] < prices[i]:\n",
    "            profit += prices[i] - prices[i-1]\n",
    "    return profit\n",
    "\n",
    "maxProfit(prices=[7,1,5,3,6,4])"
   ]
  },
  {
   "cell_type": "markdown",
   "metadata": {},
   "source": [
    "At beginning, I was little bit confused about that, let's explain it step by step:"
   ]
  },
  {
   "cell_type": "code",
   "execution_count": 36,
   "metadata": {},
   "outputs": [
    {
     "name": "stdout",
     "output_type": "stream",
     "text": [
      "6\n",
      "6\n"
     ]
    }
   ],
   "source": [
    "# in the first case:\n",
    "# increasing prices\n",
    "prices=[1,2,3,4,5,6,7]\n",
    "profit1 = max(prices) - min(prices)\n",
    "# highest - lowest\n",
    "print(profit1)\n",
    "profit2 = 0\n",
    "for i in range(len(prices)-1):\n",
    "    profit2 += prices[i+1] - prices[i]\n",
    "# sum of each step\n",
    "print(profit2)"
   ]
  },
  {
   "cell_type": "code",
   "execution_count": 40,
   "metadata": {},
   "outputs": [
    {
     "name": "stdout",
     "output_type": "stream",
     "text": [
      "101\n",
      "101\n"
     ]
    }
   ],
   "source": [
    "# in second case:\n",
    "prices = [1,5,3,100]\n",
    "# we can divided it into 2 increasing parts\n",
    "prices1 = [1, 5]\n",
    "prices2 = [3, 100]\n",
    "profit1 = 0\n",
    "profit2 = 0\n",
    "# and compute the sum, same thing, we can compute step by step\n",
    "for i in range(len(prices1)-1):\n",
    "    profit1 += prices1[i+1] - prices1[i]\n",
    "\n",
    "for i in range(len(prices2)-1):\n",
    "    profit2 += prices2[i+1] - prices2[i]\n",
    "# the condition of division is 5 > 3\n",
    "print(profit1 + profit2)\n",
    "print(max(prices1) - min(prices1) + max(prices2) - min(prices2))\n",
    "# So we can conclude that, we can compute step by step for both cases except prices[i-1] > prices[i]"
   ]
  },
  {
   "cell_type": "markdown",
   "metadata": {},
   "source": [
    "# Jump Game\n",
    "Try it first"
   ]
  },
  {
   "cell_type": "code",
   "execution_count": null,
   "metadata": {},
   "outputs": [],
   "source": [
    "def canJump(nums):\n",
    "        n = len(nums)\n",
    "        for i in range(n):\n",
    "            if nums[i] + i == n-1:\n",
    "                return True\n",
    "        return False\n"
   ]
  },
  {
   "cell_type": "markdown",
   "metadata": {},
   "source": [
    "Once we check whether the position exists that it can jump to the end, return true\n",
    "It works for most cases, but \"maximum jump\" was ignored that, sometimes it doesn't need to jump in maxinum length, besides, from start position also ignored that, if nums[0]==0, we even cannot start......\n",
    "\n",
    "Check the solution:\n",
    "\n",
    "The solution uses the same strategy but for each end point which means, it tries to clarify whether the previous one can approach to the next one for each end. Iterate from the tail to head, each point act as end and it uses position + jump maximum >= end point position to determine. Great!"
   ]
  },
  {
   "cell_type": "code",
   "execution_count": 7,
   "metadata": {},
   "outputs": [
    {
     "name": "stdout",
     "output_type": "stream",
     "text": [
      "2\n",
      "1\n"
     ]
    },
    {
     "data": {
      "text/plain": [
       "False"
      ]
     },
     "execution_count": 7,
     "metadata": {},
     "output_type": "execute_result"
    }
   ],
   "source": [
    "def canJump(nums):\n",
    "    n = len(nums)\n",
    "    for i in range(n-1, 0, -1):\n",
    "        if i > nums[i-1] + i-1:\n",
    "            print(i)\n",
    "            print(nums[i-1] + i-1)\n",
    "            return False\n",
    "    return True\n",
    "canJump(nums=[2,0,0])"
   ]
  },
  {
   "cell_type": "code",
   "execution_count": 8,
   "metadata": {},
   "outputs": [
    {
     "data": {
      "text/plain": [
       "True"
      ]
     },
     "execution_count": 8,
     "metadata": {},
     "output_type": "execute_result"
    }
   ],
   "source": [
    "# the solution:\n",
    "def canJump(nums):\n",
    "    goal = len(nums) - 1\n",
    "\n",
    "    for i in range(len(nums) - 2, -1, -1):\n",
    "        if i + nums[i] >= goal:\n",
    "            goal = i\n",
    "    \n",
    "    return True if goal == 0 else False\n",
    "canJump(nums=[2,0,0])"
   ]
  },
  {
   "cell_type": "markdown",
   "metadata": {},
   "source": [
    "In this case, [2, 0, 0], if we determine it step by step, it cannot work 'cause 0 cannot reach to 0 but 2 can reach to 0 directly, so the \"previous\" and \"next\" point are not neighbor necessarily, if the neighbor combination does not meet the condition, find the former one and continue."
   ]
  },
  {
   "cell_type": "markdown",
   "metadata": {},
   "source": [
    "# Jump Game 2\n",
    "For each step: determine whether it can approach to the end, if not scan the points it is able to pass, and choose the max and jump to there."
   ]
  },
  {
   "cell_type": "code",
   "execution_count": 30,
   "metadata": {},
   "outputs": [
    {
     "data": {
      "text/plain": [
       "2"
      ]
     },
     "execution_count": 30,
     "metadata": {},
     "output_type": "execute_result"
    }
   ],
   "source": [
    "def jump(nums):\n",
    "    n = len(nums)\n",
    "    farthest = 0\n",
    "    far_index = 0\n",
    "    steps = 0\n",
    "    i = 0\n",
    "    while i < n-1:\n",
    "        if i + nums[i] >= n-1:\n",
    "            return steps + 1\n",
    "        else:\n",
    "            for j in range(i+1, nums[i] + i + 1):\n",
    "                if nums[j] > farthest:\n",
    "                    farthest = nums[j]\n",
    "                    far_index = j\n",
    "            i = far_index # return value of i must be index\n",
    "            steps += 1\n",
    "    return steps\n",
    "\n",
    "jump(nums=[1,2,3])"
   ]
  },
  {
   "cell_type": "markdown",
   "metadata": {},
   "source": [
    "If in the case nums=[0], it doesn't need to jump. How to cope with that.\n",
    "\n",
    "***You'd better think about this case for each problem***\n",
    "\n",
    "I don't know, check the solution, by the way, this method is too slow. The strategies are same... but how to cope with that shit?\n",
    "\n",
    "I don't have use the loop condition: i < n, 'cause it doesn't need to compute how many steps it can reach to the end, just 0. Great!\n",
    "\n",
    "The present solution, i < n-1, cannot jump from n-2 to n-1......\n",
    "\n",
    "Time limit exceeded, fuck......"
   ]
  },
  {
   "cell_type": "code",
   "execution_count": null,
   "metadata": {},
   "outputs": [],
   "source": [
    "# cover the if branch\n",
    "def jump(nums):\n",
    "    n = len(nums)\n",
    "    near = far = jumps =  i = 0\n",
    "    while i < n:\n",
    "        near = i+1\n",
    "        far = near + nums[i]\n",
    "        farthest = 0\n",
    "        for j in range(near, far):\n",
    "            farthest = max(farthest, nums[j] + i)\n",
    "        i += nums[j]\n",
    "        jumps += 1\n",
    "    return jumps\n",
    "# in this solution, nums[j] would be out of range probably, so I still have to determine whether far < n-1\n",
    "# in this case, the official solution replace i with far, but I was little bit confused about that."
   ]
  },
  {
   "cell_type": "code",
   "execution_count": 31,
   "metadata": {},
   "outputs": [],
   "source": [
    "def jump(nums):\n",
    "    near = far = jumps = 0\n",
    "    # this initialization confused me at first\n",
    "    # without i, it cannot represents the present position\n",
    "    # so it iterate the first element as well\n",
    "    # that is the 0th jump\n",
    "    while far < len(nums) - 1:\n",
    "        farthest = 0\n",
    "        for i in range(near, far + 1):\n",
    "            farthest = max(farthest, i + nums[i])\n",
    "            # quite different, here it uses i+nums[i] where i is in the interval between near and far\n",
    "            # which means it represent, in position i, the next position it can reach to, where i is \"the next position\" in your solution\n",
    "            # so in this solution, farthest is not the farthest position the present i can reach, instead, it is after the present jump, the farthest position it can reach.\n",
    "        near = far + 1\n",
    "        far = farthest\n",
    "        jumps += 1\n",
    "    # here it replaces the branch\n",
    "    return jumps"
   ]
  },
  {
   "cell_type": "markdown",
   "metadata": {},
   "source": [
    "# H-Index\n",
    "[3,0,6,1,5] means the researcher has 5 papers in total and each of them had received 3, 0, 6, 1, 5 citations respectively.\n",
    "Since the researcher has 3 papers with at least 3 citations each and the remaining two with no more than 3 citations each, their h-index is 3.\n",
    "\n",
    "Have no idea with that.\n",
    "\n",
    "Based on the hint, we can sort that first"
   ]
  },
  {
   "cell_type": "code",
   "execution_count": 22,
   "metadata": {},
   "outputs": [
    {
     "data": {
      "text/plain": [
       "1"
      ]
     },
     "execution_count": 22,
     "metadata": {},
     "output_type": "execute_result"
    }
   ],
   "source": [
    "def hIndex(citations):\n",
    "    citations.sort()\n",
    "    n = len(citations)\n",
    "    for i in range(n-1, -1, -1):\n",
    "        if citations[i] == n - i  or citations[i] == n - i - 1:\n",
    "            return citations[i]\n",
    "        \n",
    "hIndex(citations=[0,1,3,5,6])"
   ]
  },
  {
   "cell_type": "markdown",
   "metadata": {},
   "source": [
    "For this case, 3 is only 1 paper whose citation is bigger than 1. No idea.....\n",
    "\n",
    "After checking the solution, I think I can fix that. For 2 situations: the bigger list than h including h or excluding h.\n",
    "\n",
    "You did not consider the boundary condition, again!"
   ]
  },
  {
   "cell_type": "code",
   "execution_count": 6,
   "metadata": {},
   "outputs": [],
   "source": [
    "hIndex(citations=[100])"
   ]
  },
  {
   "cell_type": "markdown",
   "metadata": {},
   "source": [
    "Expected return value is 1.\n",
    "\n",
    "The cruex is h can be excluded in the bigger list also can do not exist in the whole list."
   ]
  },
  {
   "cell_type": "code",
   "execution_count": 10,
   "metadata": {},
   "outputs": [
    {
     "data": {
      "text/plain": [
       "1"
      ]
     },
     "execution_count": 10,
     "metadata": {},
     "output_type": "execute_result"
    }
   ],
   "source": [
    "def hIndex(citations):\n",
    "    citations.sort()\n",
    "    n = len(citations)\n",
    "    candidate = []\n",
    "    for i in range(n-1, -1, -1):\n",
    "        if citations[i] == n - i:\n",
    "            return citations[i] \n",
    "        elif citations[i] > n - i:\n",
    "             candidate.append(n - i)\n",
    "    return min(candidate) if candidate else 0\n",
    "hIndex(citations=[100])"
   ]
  },
  {
   "cell_type": "code",
   "execution_count": 11,
   "metadata": {},
   "outputs": [
    {
     "data": {
      "text/plain": [
       "3"
      ]
     },
     "execution_count": 11,
     "metadata": {},
     "output_type": "execute_result"
    }
   ],
   "source": [
    "hIndex(citations=[0,1,3,5,6])"
   ]
  },
  {
   "cell_type": "markdown",
   "metadata": {},
   "source": [
    "It doesn't work, I can't clarify the condition determination......\n",
    "\n",
    "Check the solution"
   ]
  },
  {
   "cell_type": "code",
   "execution_count": 19,
   "metadata": {},
   "outputs": [
    {
     "name": "stdout",
     "output_type": "stream",
     "text": [
      "3\n",
      "[0, 2, 0, 1]\n"
     ]
    },
    {
     "data": {
      "text/plain": [
       "1"
      ]
     },
     "execution_count": 19,
     "metadata": {},
     "output_type": "execute_result"
    }
   ],
   "source": [
    "def hIndex(citations):\n",
    "    papers = len(citations)\n",
    "    print(papers)\n",
    "    citation_buckets = [0] * (papers + 1)\n",
    "\n",
    "    for citation in citations:\n",
    "        citation_buckets[min(citation, papers)] += 1\n",
    "\n",
    "    cumulative_papers = 0\n",
    "    print(citation_buckets)\n",
    "    # bigger than length, cumulate them as an element and return it\n",
    "    # how it covers 2 conditions?\n",
    "    # or how it covers the second condition? \n",
    "    for h_index in range(papers, -1, -1):\n",
    "        cumulative_papers += citation_buckets[h_index]\n",
    "        if cumulative_papers >= h_index:\n",
    "            return h_index   \n",
    "hIndex(citations=[1,1,3])\n"
   ]
  },
  {
   "cell_type": "markdown",
   "metadata": {},
   "source": [
    "## H-Index 的两个条件\n",
    "1. 至少 h 篇论文的引用次数 ≥ h。\n",
    "2. 最多剩余的论文引用次数 ≤ h。\n",
    "\n",
    "你绝对需要这一步，**ATTENTION Don't forget clarify everything!**\n",
    "\n",
    "代码通过 **桶排序** 和 **逆序累加** 的方式，隐式满足了这两个条件。\n",
    "\n",
    "**bucket sorting** and **backward summing**\n",
    "\n",
    "## Bucket Sort:\n",
    "Pros:\n",
    "当数据分布均匀时，桶排序的效率非常高，接近 O(n)。\n",
    "非比较排序，适用于浮点数或需要快速分布处理的数据。\n",
    "\n",
    "Cons:\n",
    "对数据分布的要求较高。如果数据分布不均匀，某些桶的数据会特别多，导致性能退化。\n",
    "需要预先知道数据的范围，且桶的数量和划分策略对效率影响很大"
   ]
  },
  {
   "cell_type": "markdown",
   "metadata": {},
   "source": [
    "# Insert Delete GetRandom O(1)\n",
    "O(1).....cannot iterate the array, what should I do? Don't know, check the solution directly.\n",
    "\n",
    "The solution uses hash table and list to implement that, by the way, you have to know why the time complexity of searching in hash table is O(1). "
   ]
  },
  {
   "cell_type": "code",
   "execution_count": null,
   "metadata": {},
   "outputs": [
    {
     "name": "stdout",
     "output_type": "stream",
     "text": [
      "[0]\n",
      "{0: 0}\n",
      "[0, 1]\n",
      "{0: 0, 1: 1}\n",
      "[1]\n",
      "{1: 0}\n",
      "[1, 2]\n",
      "{1: 0, 2: 1}\n",
      "[1, 2, 0]\n",
      "{1: 0, 2: 1, 0: 2}\n"
     ]
    },
    {
     "data": {
      "text/plain": [
       "[True, True, False, True]"
      ]
     },
     "execution_count": 52,
     "metadata": {},
     "output_type": "execute_result"
    }
   ],
   "source": [
    "import random\n",
    "class RandomizedSet:\n",
    "\n",
    "    def __init__(self):\n",
    "        self.arr = []\n",
    "        self.dict = {}\n",
    "    def insert(self, val: int) -> bool:\n",
    "        if self.dict.get(val, -1) == -1:\n",
    "            self.arr.append(val)\n",
    "            self.dict[val] = len(self.arr) - 1\n",
    "            print(self.arr)\n",
    "            print(self.dict)\n",
    "            return True\n",
    "        return False\n",
    "    \n",
    "    def remove(self, val: int) -> bool:\n",
    "        remove = self.dict.pop(val, -1)\n",
    "        if remove == -1:\n",
    "            return False\n",
    "        # exchange the tail element with remove element\n",
    "        # but when one element left, exchange cannot remove that\n",
    "        if remove != len(self.arr) - 1:\n",
    "            tail_element = self.arr[-1]\n",
    "            # you don't need to really exchange the val to the tail, it would be removed\n",
    "            self.arr[remove] = tail_element\n",
    "            self.dict[tail_element] = remove\n",
    "        self.arr.pop()\n",
    "        print(self.arr)\n",
    "        print(self.dict)\n",
    "        return True\n",
    "\n",
    "    def getRandom(self) -> int:\n",
    "        return random.choice(self.arr)\n",
    "    \n",
    "obj = RandomizedSet()\n",
    "\n",
    "param_1 = obj.insert(val=0)\n",
    "param_2 = obj.insert(val=1)\n",
    "param_3 = obj.remove(val=0)\n",
    "param_4 = obj.insert(val=2)\n",
    "param_5 = obj.remove(val=0)\n",
    "param_6 = obj.insert(val=0)\n",
    "\n",
    "[param_1, param_3, param_5, param_6]\n"
   ]
  },
  {
   "cell_type": "code",
   "execution_count": 53,
   "metadata": {},
   "outputs": [
    {
     "name": "stdout",
     "output_type": "stream",
     "text": [
      "[0]\n",
      "{0: 0}\n",
      "[]\n",
      "{}\n",
      "[0]\n",
      "{0: 0}\n",
      "[None, False, False, True, 0, True, True]\n"
     ]
    }
   ],
   "source": [
    "def test_randomized_set():\n",
    "    results = []\n",
    "    random_set = RandomizedSet()  # Initialize RandomizedSet\n",
    "    results.append(None)  # Corresponds to the \"RandomizedSet\" operation\n",
    "    \n",
    "    # Perform operations\n",
    "    results.append(random_set.remove(0))  # remove(0): False\n",
    "    results.append(random_set.remove(0))  # remove(0): False\n",
    "    results.append(random_set.insert(0))  # insert(0): True\n",
    "    results.append(random_set.getRandom())  # getRandom(): 0 (only element in set)\n",
    "    results.append(random_set.remove(0))  # remove(0): True\n",
    "    results.append(random_set.insert(0))  # insert(0): True\n",
    "    \n",
    "    # Output results for verification\n",
    "    print(results)\n",
    "\n",
    "# Run the test case\n",
    "test_randomized_set()"
   ]
  },
  {
   "cell_type": "markdown",
   "metadata": {},
   "source": [
    "# Product of Array Except Self\n",
    "Directly check the solution:\n",
    "\n",
    "**left:**\n",
    "The total multiplication of numbers on the left of nums[i]\n",
    "\n",
    "**right:**\n",
    "The total multiplication of numbers on the right of nums[i]\n",
    "\n",
    "**output:**\n",
    "The output\n",
    "\n",
    "**Train of thoughts:**\n",
    "Calculate the multiplication of numbers on the left of nums[i], and then calculate the same thing on the right of nums[i], multiple the 2 parts."
   ]
  },
  {
   "cell_type": "code",
   "execution_count": 2,
   "metadata": {},
   "outputs": [
    {
     "name": "stdout",
     "output_type": "stream",
     "text": [
      "[1, 1, 2, 6]\n"
     ]
    },
    {
     "data": {
      "text/plain": [
       "[24, 12, 8, 6]"
      ]
     },
     "execution_count": 2,
     "metadata": {},
     "output_type": "execute_result"
    }
   ],
   "source": [
    "def productExceptSelf(nums):\n",
    "    left, right = 1, 1\n",
    "    n = len(nums)\n",
    "    output = [1] * n\n",
    "\n",
    "    for i in range(n):\n",
    "        output[i] *= left\n",
    "        left *= nums[i]\n",
    "    print(output)\n",
    "    for i in range(n-1, -1, -1):\n",
    "        output[i] *= right\n",
    "        right *= nums[i]\n",
    "    return output\n",
    "productExceptSelf(nums=[1,2,3,4])"
   ]
  },
  {
   "cell_type": "markdown",
   "metadata": {},
   "source": [
    "# Gas Station\n",
    "The intuitive solution"
   ]
  },
  {
   "cell_type": "code",
   "execution_count": 53,
   "metadata": {},
   "outputs": [
    {
     "name": "stdout",
     "output_type": "stream",
     "text": [
      "3\n"
     ]
    },
    {
     "data": {
      "text/plain": [
       "3"
      ]
     },
     "execution_count": 53,
     "metadata": {},
     "output_type": "execute_result"
    }
   ],
   "source": [
    "def canCompleteCircuit(gas, cost):\n",
    "    n = len(cost)\n",
    "    for i in range(n):\n",
    "        if cost[i] <= gas[i]:\n",
    "            j = 0\n",
    "            print(i)\n",
    "            tank = gas[i]\n",
    "            while j <= n:\n",
    "                solution = True\n",
    "                tank -=  cost[(j+i)%n]\n",
    "                if tank < 0:\n",
    "                    solution = False\n",
    "                    break\n",
    "                tank += gas[(i+j+1)%n] \n",
    "                j += 1\n",
    "            if solution:\n",
    "                return i\n",
    "    return -1\n",
    "    \n",
    "canCompleteCircuit(gas = [1,2,3,4,5], cost = [3,4,5,1,2])\n"
   ]
  },
  {
   "cell_type": "code",
   "execution_count": 54,
   "metadata": {},
   "outputs": [
    {
     "name": "stdout",
     "output_type": "stream",
     "text": [
      "0\n"
     ]
    },
    {
     "data": {
      "text/plain": [
       "0"
      ]
     },
     "execution_count": 54,
     "metadata": {},
     "output_type": "execute_result"
    }
   ],
   "source": [
    "canCompleteCircuit(gas = [2], cost = [2])"
   ]
  },
  {
   "cell_type": "code",
   "execution_count": 51,
   "metadata": {},
   "outputs": [
    {
     "name": "stdout",
     "output_type": "stream",
     "text": [
      "0\n",
      "2\n",
      "4\n"
     ]
    },
    {
     "data": {
      "text/plain": [
       "4"
      ]
     },
     "execution_count": 51,
     "metadata": {},
     "output_type": "execute_result"
    }
   ],
   "source": [
    "canCompleteCircuit(gas = [5,1,2,3,4], cost = [4,4,1,5,1])"
   ]
  },
  {
   "cell_type": "code",
   "execution_count": 46,
   "metadata": {},
   "outputs": [
    {
     "data": {
      "text/plain": [
       "True"
      ]
     },
     "execution_count": 46,
     "metadata": {},
     "output_type": "execute_result"
    }
   ],
   "source": [
    "n1 = [1,2,4,5,10]\n",
    "n2 = [9,9,9,9,9]\n",
    "n1 < n2\n",
    "# n1[4] > n2[4], but return False"
   ]
  },
  {
   "cell_type": "markdown",
   "metadata": {},
   "source": [
    "Time Limit Exceeded......\n",
    "\n",
    "Check the solution:\n",
    "\n",
    "The key point in solving this problem is that if the total amount of gas is greater than or eaqul to costs, then even if gas runs out midway, starting from a different location will allow a full circuit."
   ]
  },
  {
   "cell_type": "code",
   "execution_count": 56,
   "metadata": {},
   "outputs": [
    {
     "data": {
      "text/plain": [
       "4"
      ]
     },
     "execution_count": 56,
     "metadata": {},
     "output_type": "execute_result"
    }
   ],
   "source": [
    "def canCompleteCircuit(gas, cost):\n",
    "    n = len(cost)\n",
    "    start = 0\n",
    "    tank = 0\n",
    "    if sum(gas) < sum(cost):\n",
    "        return -1\n",
    "    \n",
    "\n",
    "    for i in range(n):\n",
    "        tank += gas[i] - cost[i]\n",
    "        if tank < 0:\n",
    "            start = i + 1\n",
    "            tank = 0\n",
    "            # based on the total strategy\n",
    "            # if sum(gas) > sum(cost)\n",
    "            # there must be a solution after tank < 0 appeared\n",
    "            # in that case, we can reset the start by using jump\n",
    "            # differs from original plan\n",
    "    return start\n",
    "\n",
    "canCompleteCircuit(gas = [5,1,2,3,4], cost = [4,4,1,5,1])"
   ]
  },
  {
   "cell_type": "markdown",
   "metadata": {},
   "source": [
    "# Candy\n",
    "Sometimes, I cannot come up with the solution just because I don't have a good case......\n",
    "\n",
    "\n",
    "But that's not the execuse, I have to create a good case to cover each possible situation.\n",
    "\n",
    "Check and add additional candies in both directions.\n",
    "\n",
    "By the way, it's good to verify your solution using chatGPT."
   ]
  },
  {
   "cell_type": "code",
   "execution_count": 61,
   "metadata": {},
   "outputs": [
    {
     "data": {
      "text/plain": [
       "[1, 2, 3, 4, 2, 1, 1]"
      ]
     },
     "execution_count": 61,
     "metadata": {},
     "output_type": "execute_result"
    }
   ],
   "source": [
    "def candy(ratings):\n",
    "    n = len(ratings)\n",
    "    candies = [1] * n\n",
    "\n",
    "    for i in range(1, n):\n",
    "        if ratings[i] > ratings[i-1] and candies[i] <= candies[i-1]:\n",
    "            candies[i] = candies[i-1] + 1\n",
    "    for i in range(n-2, -1, -1):\n",
    "        if ratings[i] > ratings[i+1] and candies[i] <= candies[i+1]:\n",
    "            candies[i] = candies[i+1] + 1\n",
    "        \n",
    "    return sum(candies)\n",
    "\n",
    "candy(ratings = [2,4,6,7,3,2,2])"
   ]
  },
  {
   "cell_type": "markdown",
   "metadata": {},
   "source": [
    "Awesome!!!!!"
   ]
  },
  {
   "cell_type": "markdown",
   "metadata": {},
   "source": [
    "# Trapping Rain Water\n",
    "I did this shit, but unfortunately, I have forgetten this shit......\n",
    "\n",
    "I knew it was hard, so let's just check the previous record."
   ]
  },
  {
   "cell_type": "code",
   "execution_count": 82,
   "metadata": {},
   "outputs": [
    {
     "name": "stdout",
     "output_type": "stream",
     "text": [
      "one side 0\n",
      "the other side 3\n",
      "one side 3\n",
      "the other side 5\n"
     ]
    },
    {
     "data": {
      "text/plain": [
       "5"
      ]
     },
     "execution_count": 82,
     "metadata": {},
     "output_type": "execute_result"
    }
   ],
   "source": [
    "def trap(height):\n",
    "    n = len(height)\n",
    "    water = 0\n",
    "    j = 0\n",
    "    dam = 0\n",
    "    for i in range(n-1):\n",
    "        # I don't want j changes when I calculate the water\n",
    "        if j <= i:\n",
    "            j = i + 1\n",
    "            # print(j)\n",
    "            while j < n-1 and (height[j] <= height[j-1] or height[j] <= height[j+1]):\n",
    "                j += 1\n",
    "                # print(j)\n",
    "            # ensure after the loop j is the peak among its neighbors\n",
    "            print(\"one side\", i)\n",
    "            print(\"the other side\", j)\n",
    "            dam = min(height[i], height[j])\n",
    "            \n",
    "        # when i == j stop\n",
    "        if i + 1 < j:\n",
    "            water += dam - height[i+1]\n",
    "            # print((i,j))\n",
    "    return water\n",
    "\n",
    "        \n",
    "trap(height = [4,2,0,3,2,5])"
   ]
  },
  {
   "cell_type": "markdown",
   "metadata": {},
   "source": [
    "In this solution, it cannot find the global maximum volume of water.\n",
    "\n",
    "I have tried my best, I need to check the solution:\n",
    "\n",
    "I got the solution...... clarify the different cases.\n",
    "\n",
    "**One more time, before implementing your own solution, consult it to ChatGPT first!**\n",
    "\n"
   ]
  },
  {
   "cell_type": "code",
   "execution_count": 1,
   "metadata": {},
   "outputs": [
    {
     "data": {
      "text/plain": [
       "4"
      ]
     },
     "execution_count": 1,
     "metadata": {},
     "output_type": "execute_result"
    }
   ],
   "source": [
    "def trap(height):\n",
    "    n = len(height)\n",
    "    water = 0\n",
    "    left = 0\n",
    "    right = n -1\n",
    "    left_max = height[left]\n",
    "    right_max = height[right]\n",
    "\n",
    "    while left < right:\n",
    "        if left_max < right_max:\n",
    "            left += 1\n",
    "            left_max = max(height[left], left_max)\n",
    "            water += left_max - height[left]\n",
    "        else:\n",
    "            right -= 1\n",
    "            right_max = max(height[right], right_max)\n",
    "            water += right_max - height[right]\n",
    "\n",
    "    return water\n",
    "trap(height=[2,1,0,1,3,2])\n",
    "# the point is that, start computing water volumne from the side with the smaller bar\n",
    "# but why?\n",
    "# on the one hand, you kept the global maxinum bar\n",
    "# on the other hand, you compute water volume using the smaller bar\n",
    "# you have known that the volume depends on the smaller side."
   ]
  },
  {
   "cell_type": "markdown",
   "metadata": {},
   "source": [
    "# Roman to Integer\n",
    "Looks like compile principles\n",
    "\n",
    "After verification, it's too troublesome to use previous way like complie principles......"
   ]
  },
  {
   "cell_type": "code",
   "execution_count": 35,
   "metadata": {},
   "outputs": [
    {
     "name": "stdout",
     "output_type": "stream",
     "text": [
      "0\n",
      "5\n",
      "5\n",
      "1\n",
      "1\n",
      "100\n",
      "100\n",
      "10\n",
      "10\n",
      "1000\n",
      "1000\n",
      "100\n"
     ]
    },
    {
     "data": {
      "text/plain": [
       "994"
      ]
     },
     "execution_count": 35,
     "metadata": {},
     "output_type": "execute_result"
    }
   ],
   "source": [
    "def romanToInt(s):\n",
    "    roman = {\"I\": 1, \"V\": 5, \"X\": 10, \"L\": 50, \"C\": 100, \"D\": 500, \"M\": 1000}\n",
    "    number = 0\n",
    "    pre = 0\n",
    "    for i in reversed(s):\n",
    "        curr = roman[i]\n",
    "        if curr < pre:\n",
    "            number -= curr\n",
    "        else:\n",
    "            number += curr\n",
    "        pre = curr\n",
    "\n",
    "    return number \n",
    "\n",
    "romanToInt(s = \"CMXCIV\")"
   ]
  },
  {
   "cell_type": "code",
   "execution_count": 9,
   "metadata": {},
   "outputs": [
    {
     "name": "stdout",
     "output_type": "stream",
     "text": [
      "5\n",
      "4\n",
      "3\n",
      "2\n",
      "1\n",
      "0\n"
     ]
    }
   ],
   "source": [
    "for i in range(5, -1, -1):\n",
    "    print(i)"
   ]
  },
  {
   "cell_type": "code",
   "execution_count": 32,
   "metadata": {},
   "outputs": [
    {
     "name": "stdout",
     "output_type": "stream",
     "text": [
      "0\n",
      "1\n",
      "2\n",
      "3\n",
      "4\n",
      "4\n"
     ]
    }
   ],
   "source": [
    "for i in range(5):\n",
    "    print(i)\n",
    "    if i == 3:\n",
    "        i+=1\n",
    "        print(i)\n",
    "\n",
    "# 在 Python 中，for 循环的行为不会因为你在循环体内修改循环变量 i 而影响循环次数。"
   ]
  }
 ],
 "metadata": {
  "kernelspec": {
   "display_name": "base",
   "language": "python",
   "name": "python3"
  },
  "language_info": {
   "codemirror_mode": {
    "name": "ipython",
    "version": 3
   },
   "file_extension": ".py",
   "mimetype": "text/x-python",
   "name": "python",
   "nbconvert_exporter": "python",
   "pygments_lexer": "ipython3",
   "version": "3.9.12"
  }
 },
 "nbformat": 4,
 "nbformat_minor": 2
}
