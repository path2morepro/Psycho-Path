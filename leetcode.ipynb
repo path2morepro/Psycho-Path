{
 "cells": [
  {
   "cell_type": "markdown",
   "metadata": {},
   "source": [
    "# Note on Leetcode Python\n",
    "## Merger 2 number arrays"
   ]
  },
  {
   "cell_type": "code",
   "execution_count": 4,
   "metadata": {},
   "outputs": [
    {
     "name": "stdout",
     "output_type": "stream",
     "text": [
      "num is empty\n"
     ]
    }
   ],
   "source": [
    "# 测试和源代码都会在这里\n",
    "num = []\n",
    "if(num):\n",
    "    print(\"num is not empty\")\n",
    "else:\n",
    "    print(\"num is empty\")\n"
   ]
  },
  {
   "cell_type": "code",
   "execution_count": 1,
   "metadata": {},
   "outputs": [
    {
     "data": {
      "text/plain": [
       "[1, 2, 3, 4, 2, 3, 4, 5]"
      ]
     },
     "execution_count": 1,
     "metadata": {},
     "output_type": "execute_result"
    }
   ],
   "source": [
    "n1 = [1, 2, 3, 4]\n",
    "n2 = [2, 3, 4, 5]\n",
    "n = n1 + n2\n",
    "n"
   ]
  },
  {
   "cell_type": "code",
   "execution_count": 2,
   "metadata": {},
   "outputs": [
    {
     "data": {
      "text/plain": [
       "[3, 4, 5]"
      ]
     },
     "execution_count": 2,
     "metadata": {},
     "output_type": "execute_result"
    }
   ],
   "source": [
    "n2[1:]"
   ]
  },
  {
   "cell_type": "code",
   "execution_count": 10,
   "metadata": {},
   "outputs": [
    {
     "data": {
      "text/plain": [
       "[1, 2, 3, 4, 3, 4, 5]"
      ]
     },
     "execution_count": 10,
     "metadata": {},
     "output_type": "execute_result"
    }
   ],
   "source": [
    "n1 += n2[1:]\n",
    "n1"
   ]
  },
  {
   "cell_type": "code",
   "execution_count": 13,
   "metadata": {},
   "outputs": [
    {
     "data": {
      "text/plain": [
       "[1, 2, 2, 3, 0, 0, 0, 5, 6]"
      ]
     },
     "execution_count": 13,
     "metadata": {},
     "output_type": "execute_result"
    }
   ],
   "source": [
    "# solution\n",
    "def merge(nums1, m, nums2, n):\n",
    "        \"\"\"\n",
    "        Do not return anything, modify nums1 in-place instead.\n",
    "        \"\"\"\n",
    "        merge = []\n",
    "        if(nums1 and nums2):\n",
    "            i ,j = 0, 0\n",
    "            while i < m and j < n:\n",
    "                if(nums1[i] > nums2[j]):\n",
    "                    merge.append(nums2[j])\n",
    "                    j += 1\n",
    "                    # print(merge)\n",
    "                else:\n",
    "                    merge.append(nums1[i])\n",
    "                    i += 1\n",
    "                    # print(merge)\n",
    "            if i == m:\n",
    "                 merge += nums2[j:]\n",
    "                #  print(merge)\n",
    "            elif j == n:\n",
    "                 merge += nums1[i:]\n",
    "        else:\n",
    "             merge = nums1 + nums2\n",
    "        nums1 = merge\n",
    "        return nums1\n",
    "\n",
    "merge(nums1=[1,2,3,0,0,0], m=6,nums2=[2,5,6],n=3)"
   ]
  },
  {
   "cell_type": "markdown",
   "metadata": {},
   "source": [
    "现在的问题是我没办法在nums1上做inplace操作+没办法很巧妙地忽略掉0\n",
    "So far, I have problems on inplace operation on nums1 and ignoring 0."
   ]
  },
  {
   "cell_type": "markdown",
   "metadata": {},
   "source": [
    "没读懂题目......\n",
    "I don't understand the description......"
   ]
  },
  {
   "cell_type": "code",
   "execution_count": null,
   "metadata": {},
   "outputs": [
    {
     "data": {
      "text/plain": [
       "[1, 2, 2, 3, 5, 6]"
      ]
     },
     "execution_count": 15,
     "metadata": {},
     "output_type": "execute_result"
    }
   ],
   "source": [
    "# 2nd edition\n",
    "def merge(nums1, m, nums2, n):\n",
    "        \"\"\"\n",
    "        Do not return anything, modify nums1 in-place instead.\n",
    "        \"\"\"\n",
    "        for i in range(n):\n",
    "            nums1[m+i] = nums2[i]\n",
    "        nums1.sort()\n",
    "        return nums1\n",
    "\n",
    "merge(nums1=[1,2,3,0,0,0], m=3,nums2=[2,5,6],n=3)\n",
    "\n",
    "# but too fucking slow, check the solution"
   ]
  },
  {
   "cell_type": "markdown",
   "metadata": {},
   "source": [
    "也可以按照之前的思路，只不过顺序有变化，因为要实现Inplace operation所以要从后往前比较\n",
    "I can also follow the previous idea, except that the order has changed, because you want to implement the Inplace operation so you have to compare from back to front."
   ]
  },
  {
   "cell_type": "code",
   "execution_count": 35,
   "metadata": {},
   "outputs": [
    {
     "data": {
      "text/plain": [
       "[1]"
      ]
     },
     "execution_count": 35,
     "metadata": {},
     "output_type": "execute_result"
    }
   ],
   "source": [
    "# 3rd solution\n",
    "def merge(nums1, m, nums2, n):\n",
    "      \"\"\"\n",
    "      Do not return anything, modify nums1 in-place instead.\n",
    "      \"\"\"\n",
    "      i = m-1\n",
    "      j = n-1\n",
    "      k = m+n-1 \n",
    "      # the introduction of k plays an important role\n",
    "      # I should regard nums1 as a merged array\n",
    "      # which means the first m elements in nums1 can be changed.\n",
    "      if(m != 0 and n != 0):\n",
    "            while i >= 0 and j >= 0:\n",
    "                  if nums1[i] < nums2[j]:\n",
    "                        nums1[k] = nums2[j]\n",
    "                        j-=1\n",
    "                        k-=1\n",
    "                  elif nums1[i] >= nums2[j]:\n",
    "                        nums1[k] = nums1[i]\n",
    "                        i-=1\n",
    "                        k-=1\n",
    "      else:\n",
    "            nums1 = nums1 if n == 0 else nums2\n",
    "      return nums1\n",
    "# merge(nums1=[1,2,3,0,0,0], m=3,nums2=[2,5,6],n=3)\n",
    "merge(nums1=[0], m=0,nums2=[1],n=1)"
   ]
  },
  {
   "cell_type": "markdown",
   "metadata": {},
   "source": [
    "I don't know why such a line like nums1 = nums2 doesn't work in this problem.\n",
    "To cope with the special case that m=0 without extra branch, I have to exchange the order of comparison of nums1[i] and nums2[j] and tune the condition like this"
   ]
  },
  {
   "cell_type": "code",
   "execution_count": null,
   "metadata": {},
   "outputs": [],
   "source": [
    "def merge(nums1, m, nums2, n):\n",
    "    \"\"\"\n",
    "    Do not return anything, modify nums1 in-place instead.\n",
    "    \"\"\"\n",
    "    i = m-1\n",
    "    j = n-1\n",
    "    k = m+n-1 \n",
    "    # the introduction of k plays an important role\n",
    "    # I should regard nums1 as a merged array\n",
    "    # which means the first m elements in nums1 can be changed.\n",
    "    while j >= 0:\n",
    "            if i >= 0 and nums1[i] > nums2[j]:\n",
    "                # i>=0 move to there, once n=0, nothing required to do\n",
    "                # once i <= we can directly move the rest of nums2 into nums1\n",
    "                #  in this case, those elements are greater than nums1[0]\n",
    "                nums1[k] = nums1[i]\n",
    "                i-=1\n",
    "            else:\n",
    "                nums1[k] = nums2[j]\n",
    "                j-=1\n",
    "            k-=1"
   ]
  }
 ],
 "metadata": {
  "kernelspec": {
   "display_name": "base",
   "language": "python",
   "name": "python3"
  },
  "language_info": {
   "codemirror_mode": {
    "name": "ipython",
    "version": 3
   },
   "file_extension": ".py",
   "mimetype": "text/x-python",
   "name": "python",
   "nbconvert_exporter": "python",
   "pygments_lexer": "ipython3",
   "version": "3.9.12"
  }
 },
 "nbformat": 4,
 "nbformat_minor": 2
}
